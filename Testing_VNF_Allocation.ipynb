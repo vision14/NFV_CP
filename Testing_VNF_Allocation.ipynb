{
 "cells": [
  {
   "cell_type": "markdown",
   "id": "0883420d",
   "metadata": {},
   "source": [
    "# Constraint Programming (CS 890BR)\n",
    "## Automating VNF Allocation through Constraing Programming\n",
    "\n",
    "### Name: Poojan Vyas\n",
    "### Student ID: 200440326\n",
    "### Email: pvv747@uregina.ca\n",
    "\n",
    "***Abstract***: This notebook contains an experimentation of the constraint module that can be used for automating VNF allocation in a network. The notebook describes the necessary methods to build a digital-twin of a network through Python's Networkx package. Additionally, the notebook also explains methods that can be used to solve the VNF allocation problem using constraint programming."
   ]
  },
  {
   "cell_type": "markdown",
   "id": "51b71e4f",
   "metadata": {},
   "source": [
    "# 1. Defining Methods"
   ]
  },
  {
   "cell_type": "markdown",
   "id": "31be8b31",
   "metadata": {},
   "source": [
    "## 1.1 Importing Packages"
   ]
  },
  {
   "cell_type": "markdown",
   "id": "36276fb2",
   "metadata": {},
   "source": [
    "In the following section, I have imported two packages: Networkx and Matplotlib. The networkx package is used for creating a network while the matplotlib package is used for visualizing the package."
   ]
  },
  {
   "cell_type": "code",
   "execution_count": 1,
   "id": "5c64660d-1e01-46f6-85d0-dd3213904a4f",
   "metadata": {},
   "outputs": [],
   "source": [
    "# Importing Packages\n",
    "import networkx as nx\n",
    "import matplotlib.pyplot as plt"
   ]
  },
  {
   "cell_type": "markdown",
   "id": "8efe7ec2",
   "metadata": {},
   "source": [
    "## 1.2 Methods for Creatig Network"
   ]
  },
  {
   "cell_type": "markdown",
   "id": "e5abaf78",
   "metadata": {},
   "source": [
    "The following section contains four methods: create_nodes, create_edges, add_node_attributes and display. The create_nodes methods is used for instantiating the number of nodes that are present in the network like routers, switches etc. The create_edge method is used for connecting nodes with each other that is defining their neighbours. Furthermore, the add_node_attributes method is used for defining the properties of a particular node, for example, defining the compute, storage, RAM and bandwidth of a server rack node. At last, the display method is used for displaying the created digital-twin of the network."
   ]
  },
  {
   "cell_type": "code",
   "execution_count": 2,
   "id": "d9850307",
   "metadata": {},
   "outputs": [],
   "source": [
    "def create_nodes(network_obj, node_list):\n",
    "    if type(node_list) == list and type(network_obj) == nx.classes.graph.Graph:\n",
    "        for node in node_list:\n",
    "            network_obj.add_node(node)\n",
    "    else:\n",
    "        if type(node_list) != list:\n",
    "            raise ValueError(\"Incorrect type for node_list.\")\n",
    "        elif type(network_obj) != nx.classes.graph.Graph:\n",
    "            raise ValueError(\"Incorrect type for network_obj.\")\n",
    "        else:\n",
    "            raise ValueError(\"Unexpected error while creating nodes\")\n",
    "            \n",
    "def create_edge(network_obj, edge_dict):\n",
    "    if type(edge_dict) == dict and type(network_obj) == nx.classes.graph.Graph:\n",
    "        for node, node_list in edge_dict.items():\n",
    "            if type(node_list) == list or type(node_list) == tuple:\n",
    "                for neighbour_node in node_list:\n",
    "                    network_obj.add_edge(node, neighbour_node)\n",
    "            else:\n",
    "                raise ValueError(\"Incorrect type for neighbour nodes.\")\n",
    "    else:\n",
    "        if type(edge_dict) != dict:\n",
    "            raise ValueError(\"Incorrect type for edge_dict.\")\n",
    "        elif type(network_obj) != nx.classes.graph.Graph:\n",
    "            raise ValueError(\"Incorrect type for network_obj.\")\n",
    "        else:\n",
    "            raise ValueError(\"Unexpected error while creating nodes\")\n",
    "            \n",
    "def add_node_attributes(network_obj, node_att):\n",
    "    if type(node_att) == dict and type(network_obj) == nx.classes.graph.Graph:\n",
    "        for node, att_dict in node_att.items():\n",
    "            if type(att_dict) == dict:\n",
    "                for key,value in att_dict.items():\n",
    "                    network_obj.nodes[node][key] = value\n",
    "            else:\n",
    "                raise ValueError(\"Incorrect type for neighbour nodes.\")\n",
    "    else:\n",
    "        if type(node_att) != dict:\n",
    "            raise ValueError(\"Incorrect type for edge_dict.\")\n",
    "        elif type(network_obj) != nx.classes.graph.Graph:\n",
    "            raise ValueError(\"Incorrect type for network_obj.\")\n",
    "        else:\n",
    "            raise ValueError(\"Unexpected error while creating nodes\")\n",
    "            \n",
    "def display(network_obj, pos):\n",
    "    plt.figure(figsize=(20, 10))\n",
    "    nx.draw_networkx(network_obj, pos, node_size=500, font_color='black')\n",
    "    plt.show()"
   ]
  },
  {
   "cell_type": "markdown",
   "id": "34844956",
   "metadata": {},
   "source": [
    "## 1.3 Methods for Constraint Module\n",
    "\n",
    "The following section contains four methods: constraint_satisfaction, objective_function, find_max and vnf_allocation. The constraing_satisfaction method is used to check the statisfiability of the variables on a set of defined constraints. In other words, this methods checks if a VNF's compute, storage, RAM and bandwidth requirements are lesser than the available resources. If a variable value satisfies all the conditions defined in the method, that value is added into a set of all solutions. The objective_function method is used for identifying the optimal solution out of all solutions. The purpose of this method is to utilize the server resources as optimally as possible. Hence, the method checks how much resources a certain VNF might use from all of the server racks and finds the server rack where maximum number of resources are being used using the find_max method. This method can be used for load balancing as well, that is, instead of finding the server rack where maximum number of resources will be used, we can simply find the minimum amount of resources used for load balancing. The selection of which objective to use depends on the needs of an organization. At last, the vnf_allocation method is used to allocate the VNF to the most optimal solution given by the objective_function method."
   ]
  },
  {
   "cell_type": "code",
   "execution_count": 3,
   "id": "b1fcacad",
   "metadata": {},
   "outputs": [],
   "source": [
    "def constraint_satisfaction(vnf_dict, sr_dict):\n",
    "    if type(vnf_dict) == dict and type(sr_dict) == dict:\n",
    "        solution = []\n",
    "        for sr in sr_dict:\n",
    "            if vnf_dict[\"Compute\"] <= sr_dict[sr][\"Compute\"] and vnf_dict[\"Storage\"] <= sr_dict[sr][\"Storage\"] and vnf_dict[\"RAM\"] <= sr_dict[sr][\"RAM\"] and vnf_dict[\"Bandwidth\"] <= sr_dict[sr][\"Bandwidth\"]:\n",
    "                solution.append(sr)\n",
    "        return solution\n",
    "    else:\n",
    "        if type(vnf_dict) != dict:\n",
    "            raise ValueError(\"Incorrect type fro constraint_dict\")\n",
    "        elif type(sr_dict) != dict:\n",
    "            raise ValueError(\"Incorrect type fro sr_dict\")\n",
    "        else:\n",
    "            raise ValueError(\"Unexpected error while calculating the solution\")\n",
    "\n",
    "def find_max(consumption_dict):\n",
    "    solution = max(consumption_dict, key=consumption_dict.get)\n",
    "    pareto_solutions = {solution: consumption_dict[solution]}\n",
    "    for key in consumption_dict:\n",
    "        if consumption_dict[solution] == consumption_dict[key] and key != solution:\n",
    "            pareto_solutions[key] = consumption_dict[key]\n",
    "    return pareto_solutions\n",
    "    \n",
    "def objective_function(network_obj, vnf_dict, solutions):\n",
    "    if (type(vnf_dict) == dict and (type(solutions) == list or type(solutions) == tuple) and type(network_obj) == nx.classes.graph.Graph):\n",
    "        module_consumption = {}\n",
    "        total_consumption = {}\n",
    "        for sr in solutions:\n",
    "            compute_consumption = 100*vnf_dict[\"Compute\"]/network_obj.nodes[sr][\"Compute\"]\n",
    "            storage_consumption = 100*vnf_dict[\"Storage\"]/network_obj.nodes[sr][\"Storage\"]\n",
    "            ram_consumption = 100*vnf_dict[\"RAM\"]/network_obj.nodes[sr][\"RAM\"]\n",
    "            bandwidth_consumption = 100*vnf_dict[\"Bandwidth\"]/network_obj.nodes[sr][\"Bandwidth\"]\n",
    "            total = (compute_consumption + storage_consumption + ram_consumption + bandwidth_consumption)/4\n",
    "            module_consumption[sr] = {\"Compute\": compute_consumption,\n",
    "                                     \"Storage\": storage_consumption,\n",
    "                                     \"RAM\": ram_consumption,\n",
    "                                     \"Bandwidth\": bandwidth_consumption,\n",
    "                                     \"Total\": total}\n",
    "            total_consumption[sr] = total\n",
    "        pareto_solutions = find_max(total_consumption)\n",
    "        if len(pareto_solutions) == 1:\n",
    "            return list(pareto_solutions.keys())[0], module_consumption\n",
    "        else:\n",
    "            compute_solutions = {}\n",
    "            for sr in pareto_solutions:\n",
    "                compute_solutions[sr] = module_consumption[sr][\"Compute\"]\n",
    "            pareto_solutions = find_max(compute_solutions)\n",
    "            if len(pareto_solutions) == 1:\n",
    "                return list(pareto_solutions.keys())[0], module_consumption\n",
    "            else:\n",
    "                ram_solutions = {}\n",
    "                for sr in pareto_solutions:\n",
    "                    ram_solutions[sr] = module_consumption[sr][\"RAM\"]\n",
    "                pareto_solutions = find_max(ram_solutions)\n",
    "                if len(pareto_solutions) == 1:\n",
    "                    return list(pareto_solutions.keys())[0], module_consumption\n",
    "                else:\n",
    "                    bandwidth_solutions = {}\n",
    "                    for sr in pareto_solutions:\n",
    "                        bandwidth_solutions[sr] = module_consumption[sr][\"Bandwidth\"]\n",
    "                    pareto_solutions = find_max(bandwidth_solutions)\n",
    "                    if len(pareto_solutions) == 1:\n",
    "                        return list(pareto_solutions.keys())[0], module_consumption\n",
    "                    else:\n",
    "                        storage_solutions = {}\n",
    "                        for sr in pareto_solutions:\n",
    "                            storage_solutions[sr] = module_consumption[sr][\"Storage\"]\n",
    "                        pareto_solutions = find_max(storage_solutions)\n",
    "                        if len(pareto_solutions) == 1:\n",
    "                            return list(pareto_solutions.keys())[0], module_consumption\n",
    "                        else:\n",
    "                            return list(pareto_solutions.keys()), module_consumption\n",
    "    else:\n",
    "        if type(vnf_dict) != dict:\n",
    "            raise ValueError(\"Invalid type for vnf_dict\")\n",
    "        elif type(network_obj) != nx.classes.graph.Graph:\n",
    "            raise ValueError(\"Invalid type for network_obj\")\n",
    "        elif type(solutions) != list or type(solutions) != tuple:\n",
    "            raise ValueError(\"Invalid type for solutions\")\n",
    "        else:\n",
    "            raise ValueError(\"Unexpected error while calculating optimal solution\")\n",
    "            \n",
    "def vnf_allocation(network_obj, vnf_dict, solution):\n",
    "    if type(vnf_dict) == dict and type(solution) == str and type(network_obj) ==  nx.classes.graph.Graph:\n",
    "        if solution in network_obj.nodes:\n",
    "            network_obj.nodes[solution][\"Compute\"] -= vnf_dict[\"Compute\"]\n",
    "            network_obj.nodes[solution][\"Storage\"] -= vnf_dict[\"Storage\"]\n",
    "            network_obj.nodes[solution][\"RAM\"] -= vnf_dict[\"RAM\"]\n",
    "            network_obj.nodes[solution][\"Bandwidth\"] -= vnf_dict[\"Bandwidth\"]\n",
    "            network_obj.nodes[solution][\"Active VNFs\"].append(vnf_dict[\"Name\"])\n",
    "            return \"VNF Allocated successfully\"\n",
    "        else:\n",
    "            raise KeyError(\"Defined solution SR does not exists in the network\")\n",
    "    else:\n",
    "        if type(vnf_dict) != dict:\n",
    "            raise ValueError(\"Invalid type for vnf_dict\")\n",
    "        elif type(solution) != str:\n",
    "            raise ValueError(\"Invalid type for solution\")\n",
    "        elif type(network_obj) !=  nx.classes.graph.Graph:\n",
    "            raise ValueError(\"Invalid type for network_obj\")\n",
    "        else:\n",
    "            raise ValueError(\"Unexpected error while allocating the VNF\")"
   ]
  },
  {
   "cell_type": "markdown",
   "id": "30dc5166",
   "metadata": {},
   "source": [
    "# 2. Creating the Network"
   ]
  },
  {
   "cell_type": "markdown",
   "id": "4deb192b",
   "metadata": {},
   "source": [
    "The following section creates a digital-twin of a hypothetical network for validating the defined constraint module above. This network is mimiced as a set of three different pods located at different places and connected through a main router. Each pod in the network follows the spine-leaf architecture and consists of a router with two spine switches that are used for handling the traffic that is going to and from the server racks. Additionally, each pods are equiped with three server racks that have four resources (properties) inside them: Compute (in terms of CPU cores), Storage (in GBs), RAM (in GBs) and bandwidth (in Gbps (used for defining the data transfer rate in the rackes)). All of these resources are connected to each other through a Top of the Rack (TOR) switches."
   ]
  },
  {
   "cell_type": "code",
   "execution_count": 4,
   "id": "90f3eedc",
   "metadata": {},
   "outputs": [],
   "source": [
    "# Create the network object\n",
    "n = nx.Graph()"
   ]
  },
  {
   "cell_type": "code",
   "execution_count": 5,
   "id": "0a7359d6",
   "metadata": {},
   "outputs": [],
   "source": [
    "# Adds all the nodes in the network\n",
    "create_nodes(n, [\"Main Router\", \"Router 1\", \"Router 2\", \"Router 3\",\n",
    "                \"Spine Switch 11\", \"Spine Switch 12\", \"Spine Switch 21\", \"Spine Switch 22\",\n",
    "                \"Spine Switch 31\", \"Spine Switch 32\", \"TOR 11\", \"TOR 12\", \"TOR 13\", \"TOR 21\", \"TOR 22\", \"TOR 23\",\n",
    "                \"TOR 31\", \"TOR 32\", \"TOR 33\", \"Server Rack 11\", \"Server Rack 12\", \"Server Rack 13\",\n",
    "                \"Server Rack 21\", \"Server Rack 22\", \"Server Rack 23\", \"Server Rack 31\", \"Server Rack 32\", \"Server Rack 33\"])"
   ]
  },
  {
   "cell_type": "code",
   "execution_count": 6,
   "id": "37da9f97",
   "metadata": {},
   "outputs": [],
   "source": [
    "# Defines the connections between different nodes\n",
    "edges = {\"Main Router\": [\"Router 1\", \"Router 2\", \"Router 3\"],\n",
    "         \"Router 1\": [\"Spine Switch 11\", \"Spine Switch 12\"],\n",
    "         \"Router 2\": [\"Spine Switch 21\", \"Spine Switch 22\"],\n",
    "         \"Router 3\": [\"Spine Switch 31\", \"Spine Switch 32\"],\n",
    "         \"Spine Switch 11\": [\"TOR 11\", \"TOR 12\", \"TOR 13\"],\n",
    "         \"Spine Switch 12\": [\"TOR 11\", \"TOR 12\", \"TOR 13\"],\n",
    "         \"Spine Switch 21\": [\"TOR 21\", \"TOR 22\", \"TOR 23\"],\n",
    "         \"Spine Switch 22\": [\"TOR 21\", \"TOR 22\", \"TOR 23\"],\n",
    "         \"Spine Switch 31\": [\"TOR 31\", \"TOR 32\", \"TOR 33\"],\n",
    "         \"Spine Switch 32\": [\"TOR 31\", \"TOR 32\", \"TOR 33\"],\n",
    "         \"TOR 11\": [\"Server Rack 11\"],\n",
    "         \"TOR 12\": [\"Server Rack 12\"],\n",
    "         \"TOR 13\": [\"Server Rack 13\"],\n",
    "         \"TOR 21\": [\"Server Rack 21\"],\n",
    "         \"TOR 22\": [\"Server Rack 22\"],\n",
    "         \"TOR 23\": [\"Server Rack 23\"],\n",
    "         \"TOR 31\": [\"Server Rack 31\"],\n",
    "         \"TOR 32\": [\"Server Rack 32\"],\n",
    "         \"TOR 33\": [\"Server Rack 33\"]}\n",
    "create_edge(n, edges)"
   ]
  },
  {
   "cell_type": "code",
   "execution_count": 7,
   "id": "c2362dd7",
   "metadata": {},
   "outputs": [],
   "source": [
    "# Defines the resources available inside each server racks\n",
    "add_node_attributes(n, {\"Server Rack 11\": {\"Compute\": 20, \"Storage\": 2048, \"RAM\": 64, \"Bandwidth\": 100, \"Active VNFs\": []},\n",
    "                       \"Server Rack 12\": {\"Compute\": 20, \"Storage\": 2048, \"RAM\": 64, \"Bandwidth\": 100, \"Active VNFs\": []},\n",
    "                       \"Server Rack 13\": {\"Compute\": 10, \"Storage\": 1024, \"RAM\": 32, \"Bandwidth\": 10, \"Active VNFs\": []},\n",
    "                       \"Server Rack 21\": {\"Compute\": 25, \"Storage\": 2048, \"RAM\": 128, \"Bandwidth\": 100, \"Active VNFs\": []},\n",
    "                       \"Server Rack 22\": {\"Compute\": 20, \"Storage\": 2048, \"RAM\": 64, \"Bandwidth\": 100, \"Active VNFs\": []},\n",
    "                       \"Server Rack 23\": {\"Compute\": 10, \"Storage\": 1024, \"RAM\": 32, \"Bandwidth\": 10, \"Active VNFs\": []},\n",
    "                       \"Server Rack 31\": {\"Compute\": 20, \"Storage\": 1024, \"RAM\": 64, \"Bandwidth\": 100, \"Active VNFs\": []},\n",
    "                       \"Server Rack 32\": {\"Compute\": 10, \"Storage\": 512, \"RAM\": 32, \"Bandwidth\": 10, \"Active VNFs\": []},\n",
    "                       \"Server Rack 33\": {\"Compute\": 10, \"Storage\": 512, \"RAM\": 32, \"Bandwidth\": 10, \"Active VNFs\": []}})"
   ]
  },
  {
   "cell_type": "code",
   "execution_count": 8,
   "id": "b3d275ae",
   "metadata": {},
   "outputs": [
    {
     "data": {
      "image/png": "[encoded data removed]",
      "text/plain": [
       "<Figure size 1440x720 with 1 Axes>"
      ]
     },
     "metadata": {},
     "output_type": "display_data"
    }
   ],
   "source": [
    "# Display the network\n",
    "pos_list = [(50, 50), (20, 40), (50, 40), (80, 40), (15, 30), (25, 30), (45, 30), (55, 30), (75, 30), (85, 30), \n",
    "            (10, 20), (20, 20), (30, 20), (40, 20),  (50, 20),  (60, 20), (70, 20), (80, 20), (90, 20), (10, 10), \n",
    "            (20, 10), (30, 10), (40, 10), (50, 10), (60, 10), (70, 10), (80, 10), (90, 10)]\n",
    "\n",
    "pos = {}\n",
    "for i, v in enumerate(list(n.nodes)):\n",
    "    pos[v] = pos_list[i]\n",
    "    \n",
    "display(n, pos)"
   ]
  },
  {
   "cell_type": "markdown",
   "id": "242f9b7f",
   "metadata": {},
   "source": [
    "# 3. Test Cases"
   ]
  },
  {
   "cell_type": "markdown",
   "id": "5a5ca26e",
   "metadata": {},
   "source": [
    "## 3.1 Test Case 1 (Adding one VNF in an empty network): "
   ]
  },
  {
   "cell_type": "markdown",
   "id": "d44349ed",
   "metadata": {},
   "source": [
    "The following section checks the credibility of the defined constraint module by defining a VNF called \"VNF1\" with serevral resource requirments and calculates the most optimal solution (server rack) where the VNF will consume the optimal amount of resources."
   ]
  },
  {
   "cell_type": "code",
   "execution_count": 9,
   "id": "b4ca727f",
   "metadata": {},
   "outputs": [],
   "source": [
    "vnf_dict = {\"Name\": \"VNF1\", \"Compute\": 2, \"Storage\": 100, \"RAM\": 8, \"Bandwidth\": 5}\n",
    "\n",
    "sr_dict = {}\n",
    "for node in n.nodes:\n",
    "    if \"Compute\" in n.nodes[node] and \"Storage\" in n.nodes[node] and \"RAM\" in n.nodes[node] and \"Bandwidth\" in n.nodes[node]:\n",
    "        sr_dict[node] = n.nodes[node]"
   ]
  },
  {
   "cell_type": "code",
   "execution_count": 10,
   "id": "fb6ba2a5",
   "metadata": {},
   "outputs": [
    {
     "name": "stdout",
     "output_type": "stream",
     "text": [
      "All possible solutions (server racks) where VNF1 can be allocated:\n",
      "1) Server Rack 11\n",
      "2) Server Rack 12\n",
      "3) Server Rack 13\n",
      "4) Server Rack 21\n",
      "5) Server Rack 22\n",
      "6) Server Rack 23\n",
      "7) Server Rack 31\n",
      "8) Server Rack 32\n",
      "9) Server Rack 33\n"
     ]
    }
   ],
   "source": [
    "solutions = constraint_satisfaction(vnf_dict, sr_dict)\n",
    "if len(solutions) > 0:\n",
    "    print(\"All possible solutions (server racks) where VNF1 can be allocated:\")\n",
    "    for i, v in enumerate(solutions):\n",
    "        print(str(i+1) + \") \" + str(v))\n",
    "else:\n",
    "    print(\"All server racks are maxed out.\")\n",
    "    print(\"No solution exists for allocating the defined VNF\")"
   ]
  },
  {
   "cell_type": "code",
   "execution_count": 11,
   "id": "c7941c3c",
   "metadata": {},
   "outputs": [
    {
     "name": "stdout",
     "output_type": "stream",
     "text": [
      "A set of pareto optimal solutions is:\n",
      "1) Server Rack 32\n",
      "2) Server Rack 33\n",
      "Enter the index of which server rack should be used: 1\n"
     ]
    }
   ],
   "source": [
    "solution, report = objective_function(n, vnf_dict, solutions)\n",
    "if type(solution) == str:\n",
    "    print(\"The most optimal solution (server rack) where VNF1 can be allocated is:\", solution)\n",
    "else:\n",
    "    print(\"A set of pareto optimal solutions is:\")\n",
    "    for i, v in enumerate(solution):\n",
    "        print(str(i+1) + \") \" + str(v))\n",
    "    selected_vnf = int(input(\"Enter the index of which server rack should be used: \"))\n",
    "    solution = solution[selected_vnf-1]"
   ]
  },
  {
   "cell_type": "code",
   "execution_count": 12,
   "id": "b2ff09de",
   "metadata": {},
   "outputs": [
    {
     "name": "stdout",
     "output_type": "stream",
     "text": [
      "Resources available in Server Rack 32 before VNF allocation\n",
      "{'Compute': 10, 'Storage': 512, 'RAM': 32, 'Bandwidth': 10, 'Active VNFs': []}\n"
     ]
    }
   ],
   "source": [
    "print(\"Resources available in\", solution, \"before VNF allocation\")\n",
    "print(n.nodes[solution])"
   ]
  },
  {
   "cell_type": "code",
   "execution_count": 13,
   "id": "3db49f86",
   "metadata": {},
   "outputs": [
    {
     "data": {
      "text/plain": [
       "'VNF Allocated successfully'"
      ]
     },
     "execution_count": 13,
     "metadata": {},
     "output_type": "execute_result"
    }
   ],
   "source": [
    "vnf_allocation(n, vnf_dict, solution)"
   ]
  },
  {
   "cell_type": "code",
   "execution_count": 14,
   "id": "a063a8b6",
   "metadata": {},
   "outputs": [
    {
     "name": "stdout",
     "output_type": "stream",
     "text": [
      "Resources available in Server Rack 32 after VNF allocation\n",
      "{'Compute': 8, 'Storage': 412, 'RAM': 24, 'Bandwidth': 5, 'Active VNFs': ['VNF1']}\n"
     ]
    }
   ],
   "source": [
    "print(\"Resources available in\", solution, \"after VNF allocation\")\n",
    "print(n.nodes[solution])"
   ]
  },
  {
   "cell_type": "markdown",
   "id": "48d2d96f",
   "metadata": {},
   "source": [
    "## 3.2 Test Case-2 (Adding several VNF in a network where two pods are occupied): "
   ]
  },
  {
   "cell_type": "markdown",
   "id": "6c52bd47",
   "metadata": {},
   "source": [
    "The following section checks the credibility of the defined constraint module by defining several VNFs with different resource requirments and calculates optimal solutions (server racks) where all of those VNFs will consume the optimal amount of resources."
   ]
  },
  {
   "cell_type": "code",
   "execution_count": 15,
   "id": "bc268108",
   "metadata": {},
   "outputs": [],
   "source": [
    "# Defines the resources available inside each server racks\n",
    "add_node_attributes(n, {\"Server Rack 11\": {\"Compute\": 20, \"Storage\": 2048, \"RAM\": 64, \"Bandwidth\": 100, \"Active VNFs\": []},\n",
    "                       \"Server Rack 12\": {\"Compute\": 20, \"Storage\": 2048, \"RAM\": 64, \"Bandwidth\": 100, \"Active VNFs\": []},\n",
    "                       \"Server Rack 13\": {\"Compute\": 10, \"Storage\": 1024, \"RAM\": 32, \"Bandwidth\": 10, \"Active VNFs\": []},\n",
    "                       \"Server Rack 21\": {\"Compute\": 0, \"Storage\": 0, \"RAM\": 0, \"Bandwidth\": 0, \"Active VNFs\": [\"VNF1\", \"VNF2\", \"VNF3\"]},\n",
    "                       \"Server Rack 22\": {\"Compute\": 0, \"Storage\": 0, \"RAM\": 0, \"Bandwidth\": 0, \"Active VNFs\": [\"VNF4\", \"VNF5\", \"VNF6\"]},\n",
    "                       \"Server Rack 23\": {\"Compute\": 0, \"Storage\": 0, \"RAM\": 0, \"Bandwidth\": 0, \"Active VNFs\": [\"VNF7\", \"VNF8\", \"VNF9\"]},\n",
    "                       \"Server Rack 31\": {\"Compute\": 0, \"Storage\": 0, \"RAM\": 0, \"Bandwidth\": 0, \"Active VNFs\": [\"VNF10\", \"VNF11\", \"VNF12\"]},\n",
    "                       \"Server Rack 32\": {\"Compute\": 0, \"Storage\": 0, \"RAM\": 0, \"Bandwidth\": 0, \"Active VNFs\": [\"VNF13\", \"VNF14\", \"VNF15\"]},\n",
    "                       \"Server Rack 33\": {\"Compute\": 0, \"Storage\": 0, \"RAM\": 0, \"Bandwidth\": 0, \"Active VNFs\": [\"VNF16\", \"VNF17\", \"VNF18\"]}})"
   ]
  },
  {
   "cell_type": "code",
   "execution_count": 16,
   "id": "53fb9dac",
   "metadata": {},
   "outputs": [],
   "source": [
    "multi_vnfs = {\"VNF1\": {\"Name\": \"VNF1\", \"Compute\": 2, \"Storage\": 100, \"RAM\": 8, \"Bandwidth\": 5},\n",
    "            \"VNF2\": {\"Name\": \"VNF2\", \"Compute\": 4, \"Storage\": 500, \"RAM\": 16, \"Bandwidth\": 20},\n",
    "            \"VNF3\": {\"Name\": \"VNF3\", \"Compute\": 1, \"Storage\": 10, \"RAM\": 4, \"Bandwidth\": 1},\n",
    "            \"VNF4\": {\"Name\": \"VNF4\", \"Compute\": 3, \"Storage\": 150, \"RAM\": 8, \"Bandwidth\": 10},\n",
    "            \"VNF5\": {\"Name\": \"VNF5\", \"Compute\": 2, \"Storage\": 100, \"RAM\": 8, \"Bandwidth\": 8}}"
   ]
  },
  {
   "cell_type": "code",
   "execution_count": 17,
   "id": "fff14656",
   "metadata": {},
   "outputs": [
    {
     "name": "stdout",
     "output_type": "stream",
     "text": [
      "Allocation of VNF1\n",
      "\n",
      "All possible solutions (server racks) where VNF1 can be allocated:\n",
      "1) Server Rack 11\n",
      "2) Server Rack 12\n",
      "3) Server Rack 13\n",
      "\n",
      "The most optimal solution (server rack) where VNF1 can be allocated is: Server Rack 13\n",
      "\n",
      "Resources available in Server Rack 13 before VNF allocation\n",
      "{'Compute': 10, 'Storage': 1024, 'RAM': 32, 'Bandwidth': 10, 'Active VNFs': []}\n",
      "\n",
      "VNF Allocated successfully\n",
      "\n",
      "Resources available in Server Rack 13 after VNF allocation\n",
      "{'Compute': 8, 'Storage': 924, 'RAM': 24, 'Bandwidth': 5, 'Active VNFs': ['VNF1']}\n",
      "\n",
      "\n",
      "Allocation of VNF2\n",
      "\n",
      "All possible solutions (server racks) where VNF1 can be allocated:\n",
      "1) Server Rack 11\n",
      "2) Server Rack 12\n",
      "\n",
      "A set of pareto optimal solutions is:\n",
      "1) Server Rack 11\n",
      "2) Server Rack 12\n",
      "Enter the index of which server rack should be used: 1\n",
      "\n",
      "Resources available in Server Rack 11 before VNF allocation\n",
      "{'Compute': 20, 'Storage': 2048, 'RAM': 64, 'Bandwidth': 100, 'Active VNFs': []}\n",
      "\n",
      "VNF Allocated successfully\n",
      "\n",
      "Resources available in Server Rack 11 after VNF allocation\n",
      "{'Compute': 16, 'Storage': 1548, 'RAM': 48, 'Bandwidth': 80, 'Active VNFs': ['VNF2']}\n",
      "\n",
      "\n",
      "Allocation of VNF3\n",
      "\n",
      "All possible solutions (server racks) where VNF1 can be allocated:\n",
      "1) Server Rack 11\n",
      "2) Server Rack 12\n",
      "3) Server Rack 13\n",
      "\n",
      "The most optimal solution (server rack) where VNF1 can be allocated is: Server Rack 13\n",
      "\n",
      "Resources available in Server Rack 13 before VNF allocation\n",
      "{'Compute': 8, 'Storage': 924, 'RAM': 24, 'Bandwidth': 5, 'Active VNFs': ['VNF1']}\n",
      "\n",
      "VNF Allocated successfully\n",
      "\n",
      "Resources available in Server Rack 13 after VNF allocation\n",
      "{'Compute': 7, 'Storage': 914, 'RAM': 20, 'Bandwidth': 4, 'Active VNFs': ['VNF1', 'VNF3']}\n",
      "\n",
      "\n",
      "Allocation of VNF4\n",
      "\n",
      "All possible solutions (server racks) where VNF1 can be allocated:\n",
      "1) Server Rack 11\n",
      "2) Server Rack 12\n",
      "\n",
      "The most optimal solution (server rack) where VNF1 can be allocated is: Server Rack 11\n",
      "\n",
      "Resources available in Server Rack 11 before VNF allocation\n",
      "{'Compute': 16, 'Storage': 1548, 'RAM': 48, 'Bandwidth': 80, 'Active VNFs': ['VNF2']}\n",
      "\n",
      "VNF Allocated successfully\n",
      "\n",
      "Resources available in Server Rack 11 after VNF allocation\n",
      "{'Compute': 13, 'Storage': 1398, 'RAM': 40, 'Bandwidth': 70, 'Active VNFs': ['VNF2', 'VNF4']}\n",
      "\n",
      "\n",
      "Allocation of VNF5\n",
      "\n",
      "All possible solutions (server racks) where VNF1 can be allocated:\n",
      "1) Server Rack 11\n",
      "2) Server Rack 12\n",
      "\n",
      "The most optimal solution (server rack) where VNF1 can be allocated is: Server Rack 11\n",
      "\n",
      "Resources available in Server Rack 11 before VNF allocation\n",
      "{'Compute': 13, 'Storage': 1398, 'RAM': 40, 'Bandwidth': 70, 'Active VNFs': ['VNF2', 'VNF4']}\n",
      "\n",
      "VNF Allocated successfully\n",
      "\n",
      "Resources available in Server Rack 11 after VNF allocation\n",
      "{'Compute': 11, 'Storage': 1298, 'RAM': 32, 'Bandwidth': 62, 'Active VNFs': ['VNF2', 'VNF4', 'VNF5']}\n",
      "\n",
      "\n"
     ]
    }
   ],
   "source": [
    "for vnf_name, vnf_dict in multi_vnfs.items():\n",
    "    print(\"Allocation of\", vnf_name)\n",
    "    print(\"\")\n",
    "    \n",
    "    sr_dict = {}\n",
    "    for node in n.nodes:\n",
    "        if \"Compute\" in n.nodes[node] and \"Storage\" in n.nodes[node] and \"RAM\" in n.nodes[node] and \"Bandwidth\" in n.nodes[node]:\n",
    "            sr_dict[node] = n.nodes[node]\n",
    "            \n",
    "    solutions = constraint_satisfaction(vnf_dict, sr_dict)\n",
    "    if len(solutions) > 0:\n",
    "        print(\"All possible solutions (server racks) where VNF1 can be allocated:\")\n",
    "        for i, v in enumerate(solutions):\n",
    "            print(str(i+1) + \") \" + str(v))\n",
    "    else:\n",
    "        print(\"All server racks are maxed out.\")\n",
    "        print(\"No solution exists for allocating the defined VNF\")\n",
    "    print(\"\")\n",
    "    \n",
    "    solution, report = objective_function(n, vnf_dict, solutions)\n",
    "    if type(solution) == str:\n",
    "        print(\"The most optimal solution (server rack) where VNF1 can be allocated is:\", solution)\n",
    "    else:\n",
    "        print(\"A set of pareto optimal solutions is:\")\n",
    "        for i, v in enumerate(solution):\n",
    "            print(str(i+1) + \") \" + str(v))\n",
    "        selected_vnf = int(input(\"Enter the index of which server rack should be used: \"))\n",
    "        solution = solution[selected_vnf-1]\n",
    "    print(\"\")\n",
    "    \n",
    "    print(\"Resources available in\", solution, \"before VNF allocation\")\n",
    "    print(n.nodes[solution])\n",
    "    print(\"\")\n",
    "    \n",
    "    result = vnf_allocation(n, vnf_dict, solution)\n",
    "    print(result)\n",
    "    print(\"\")\n",
    "    \n",
    "    print(\"Resources available in\", solution, \"after VNF allocation\")\n",
    "    print(n.nodes[solution])\n",
    "    print(\"\")\n",
    "    print(\"\")"
   ]
  },
  {
   "cell_type": "markdown",
   "id": "df84ea4d",
   "metadata": {},
   "source": [
    "## 3.3 Test Case-3 (Adding several VNF in a network where all pods are occupied): "
   ]
  },
  {
   "cell_type": "markdown",
   "id": "f2f71f95",
   "metadata": {},
   "source": [
    "The following section checks the credibility of the defined constraint module by defining a VNF called \"VNFX\" with serevral resource requirments. The difference in this test case is that, here, all of the server racks are already busy with other VNFs and all of the resources are already occumpied."
   ]
  },
  {
   "cell_type": "code",
   "execution_count": 18,
   "id": "d28d3082",
   "metadata": {},
   "outputs": [],
   "source": [
    "# Defines the resources available inside each server racks\n",
    "add_node_attributes(n, {\"Server Rack 11\": {\"Compute\": 0, \"Storage\": 0, \"RAM\": 0, \"Bandwidth\": 0, \"Active VNFs\": [\"VNF1\", \"VNF2\", \"VNF3\"]},\n",
    "                       \"Server Rack 12\": {\"Compute\": 0, \"Storage\": 0, \"RAM\": 0, \"Bandwidth\": 0, \"Active VNFs\": [\"VNF4\", \"VNF5\", \"VNF6\"]},\n",
    "                       \"Server Rack 13\": {\"Compute\": 0, \"Storage\": 0, \"RAM\": 0, \"Bandwidth\": 0, \"Active VNFs\": [\"VNF7\", \"VNF8\", \"VNF9\"]},\n",
    "                       \"Server Rack 21\": {\"Compute\": 0, \"Storage\": 0, \"RAM\": 0, \"Bandwidth\": 0, \"Active VNFs\": [\"VNF10\", \"VNF11\", \"VNF12\"]},\n",
    "                       \"Server Rack 22\": {\"Compute\": 0, \"Storage\": 0, \"RAM\": 0, \"Bandwidth\": 0, \"Active VNFs\": [\"VNF13\", \"VNF14\", \"VNF15\"]},\n",
    "                       \"Server Rack 23\": {\"Compute\": 0, \"Storage\": 0, \"RAM\": 0, \"Bandwidth\": 0, \"Active VNFs\": [\"VNF16\", \"VNF17\", \"VNF18\"]},\n",
    "                       \"Server Rack 31\": {\"Compute\": 0, \"Storage\": 0, \"RAM\": 0, \"Bandwidth\": 0, \"Active VNFs\": [\"VNF19\", \"VNF20\", \"VNF21\"]},\n",
    "                       \"Server Rack 32\": {\"Compute\": 0, \"Storage\": 0, \"RAM\": 0, \"Bandwidth\": 0, \"Active VNFs\": [\"VNF22\", \"VNF23\", \"VNF24\"]},\n",
    "                       \"Server Rack 33\": {\"Compute\": 0, \"Storage\": 0, \"RAM\": 0, \"Bandwidth\": 0, \"Active VNFs\": [\"VNF25\", \"VNF26\", \"VNF27\"]}})"
   ]
  },
  {
   "cell_type": "code",
   "execution_count": 19,
   "id": "ec29a130",
   "metadata": {},
   "outputs": [],
   "source": [
    "vnf_dict = {\"Name\": \"VNFX\", \"Compute\": 2, \"Storage\": 100, \"RAM\": 8, \"Bandwidth\": 5}\n",
    "\n",
    "sr_dict = {}\n",
    "for node in n.nodes:\n",
    "    if \"Compute\" in n.nodes[node] and \"Storage\" in n.nodes[node] and \"RAM\" in n.nodes[node] and \"Bandwidth\" in n.nodes[node]:\n",
    "        sr_dict[node] = n.nodes[node]"
   ]
  },
  {
   "cell_type": "code",
   "execution_count": 20,
   "id": "738527ae",
   "metadata": {},
   "outputs": [
    {
     "name": "stdout",
     "output_type": "stream",
     "text": [
      "All server racks are maxed out.\n",
      "No solution exists for allocating the defined VNF\n"
     ]
    }
   ],
   "source": [
    "solutions = constraint_satisfaction(vnf_dict, sr_dict)\n",
    "if len(solutions) > 0:\n",
    "    print(\"All possible solutions (server racks) where VNF1 can be allocated:\")\n",
    "    for i, v in enumerate(solutions):\n",
    "        print(str(i+1) + \") \" + str(v))\n",
    "else:\n",
    "    print(\"All server racks are maxed out.\")\n",
    "    print(\"No solution exists for allocating the defined VNF\")"
   ]
  },
  {
   "cell_type": "code",
   "execution_count": null,
   "id": "f5cc3904",
   "metadata": {},
   "outputs": [],
   "source": []
  }
 ],
 "metadata": {
  "kernelspec": {
   "display_name": "Python 3 (ipykernel)",
   "language": "python",
   "name": "python3"
  },
  "language_info": {
   "codemirror_mode": {
    "name": "ipython",
    "version": 3
   },
   "file_extension": ".py",
   "mimetype": "text/x-python",
   "name": "python",
   "nbconvert_exporter": "python",
   "pygments_lexer": "ipython3",
   "version": "3.7.9"
  }
 },
 "nbformat": 4,
 "nbformat_minor": 5
}
